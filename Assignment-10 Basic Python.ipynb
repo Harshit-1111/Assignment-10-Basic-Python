{
 "cells": [
  {
   "cell_type": "code",
   "execution_count": null,
   "id": "c94fa404",
   "metadata": {},
   "outputs": [],
   "source": [
    "#Q1 How do you distinguish between shutil.copy() and shutil.copytree()?\n",
    "Ans The shutil.copy() function will copy a single file, \n",
    "    while shutil.copytree() will copy an entire folder, along with all its contents."
   ]
  },
  {
   "cell_type": "code",
   "execution_count": null,
   "id": "df46cc4a",
   "metadata": {},
   "outputs": [],
   "source": [
    "#Q2 What function is used to rename files??\n",
    "Ans move() function is used for renaming files,"
   ]
  },
  {
   "cell_type": "code",
   "execution_count": null,
   "id": "bbafd2cd",
   "metadata": {},
   "outputs": [],
   "source": [
    "#Q3 What is the difference between the delete functions in the send2trash and shutil modules?\n",
    "Ans The send2trash functions will move a file or folder to the recycle bin,\n",
    "     while shutil functions will permanently delete files and folders."
   ]
  },
  {
   "cell_type": "code",
   "execution_count": null,
   "id": "10b5c643",
   "metadata": {},
   "outputs": [],
   "source": [
    "#Q4 ZipFile objects have a close() method just like File objects' close() method. \n",
    "#What ZipFile method is equivalent to File objects' open() method?\n",
    "Ans The zipfile.ZipFile() function is equivalent to the open() function; the first argument is the filename, \n",
    "     and the second argument is the mode to open the ZIP file in (read, write, or append)."
   ]
  },
  {
   "cell_type": "code",
   "execution_count": null,
   "id": "d625d69b",
   "metadata": {},
   "outputs": [],
   "source": []
  }
 ],
 "metadata": {
  "kernelspec": {
   "display_name": "Python 3 (ipykernel)",
   "language": "python",
   "name": "python3"
  },
  "language_info": {
   "codemirror_mode": {
    "name": "ipython",
    "version": 3
   },
   "file_extension": ".py",
   "mimetype": "text/x-python",
   "name": "python",
   "nbconvert_exporter": "python",
   "pygments_lexer": "ipython3",
   "version": "3.9.7"
  }
 },
 "nbformat": 4,
 "nbformat_minor": 5
}
